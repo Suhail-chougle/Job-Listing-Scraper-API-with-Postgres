{
 "cells": [
  {
   "cell_type": "code",
   "execution_count": 1,
   "id": "e7073677",
   "metadata": {},
   "outputs": [],
   "source": [
    "import requests \n",
    "from bs4 import BeautifulSoup \n",
    "import re"
   ]
  },
  {
   "cell_type": "code",
   "execution_count": 2,
   "id": "8ff66c2c",
   "metadata": {},
   "outputs": [],
   "source": [
    "jobs = []\n",
    "\n",
    "def find_job(tech, location1):\n",
    "    \n",
    "    tech = tech.replace(' ', '-')\n",
    "    location1 = location1.replace(' ', '-')\n",
    "    \n",
    "    for page in range(1,5):\n",
    "       \n",
    "        url = f'https://www.reed.co.uk/jobs/{tech}-jobs-in-{location1}?pageno={page}'\n",
    "        response = requests.get(url)\n",
    "\n",
    "        # print(response.status_code)\n",
    "\n",
    "        soup = BeautifulSoup(response.content, 'html.parser')\n",
    "        all_jobs = soup.find_all('article', class_='job-result-card')\n",
    "      \n",
    "        for job1 in all_jobs:\n",
    "\n",
    "                title = job1.find('h2', class_='job-result-heading__title').text.strip()\n",
    "            \n",
    "            location = job1.find('li', class_='job-metadata__item job-metadata__item--location').text.split('\\r\\n')[1].strip()\n",
    "          \n",
    "            description = job1.find('p', class_='job-result-description__details').text.strip()\n",
    "\n",
    "            salary = job1.find('li', class_='job-metadata__item job-metadata__item--salary').text.strip()\n",
    "\n",
    "            posted_date, sep, tail = job1.find('div', class_='job-result-heading__posted-by').text.partition(' by')\n",
    "            posted_date = posted_date.partition('\\r\\n                    ')[2]\n",
    "\n",
    "            company_name = job1.find('a', class_='gtmJobListingPostedBy').text.strip()\n",
    "\n",
    "#---------------------------------------------------------------------------------------------------------------------------------------------------------------------------------\n",
    "            job_link = job1.find('h2', class_='job-result-heading__title').find('a')\n",
    "            responsibilities_link = 'https://www.reed.co.uk' + job_link.get('href')\n",
    "        \n",
    "            response2 = requests.get(responsibilities_link)\n",
    "            soup2 = BeautifulSoup(response2.content, 'html.parser')\n",
    "            \n",
    "            page_text = soup2.get_text()\n",
    "\n",
    "            \n",
    "            tech_list = ['python', 'sql', 'java', 'c++', 'c#', 'spark', 'hadoop', 'azure', \n",
    "                       'crm', 'tableau', 'power bi', 'aws', 'ML', 'AI', 'scala', 'NLP', \n",
    "                       'HTML', 'Linux', 'nosql', 'cloud', 'Postgres ''Oracle','FastAPI']\n",
    "            \n",
    "            technology = [string for string in tech_list if string.lower() in page_text.lower()]\n",
    "\n",
    "#             all_jobs = soup2.find_all('article', class_='job-result-card')\n",
    "#---------------------------------------------------------------------------------------------------------------------------------------------------------------------------------\n",
    "            \n",
    "            job = {\n",
    "                    'title': title,\n",
    "                    'company_name': company_name,\n",
    "                    'posted_date': posted_date,\n",
    "                    'location': location,\n",
    "                    'salary': salary,\n",
    "                    'description': description,\n",
    "                    'technology': technology\n",
    "                }\n",
    "            \n",
    "            jobs.append(job)\n",
    "    return jobs\n",
    "\n"
   ]
  },
  {
   "cell_type": "code",
   "execution_count": 3,
   "id": "3ff66170",
   "metadata": {},
   "outputs": [
    {
     "name": "stdout",
     "output_type": "stream",
     "text": [
      "Enter technology: artificial intelligence\n",
      "Enter location: united kingdom\n"
     ]
    }
   ],
   "source": [
    "jobs = find_job(input(\"Enter technology: \"), input(\"Enter location: \"))"
   ]
  },
  {
   "cell_type": "code",
   "execution_count": 4,
   "id": "fce0a746",
   "metadata": {},
   "outputs": [],
   "source": [
    "import psycopg2"
   ]
  },
  {
   "cell_type": "code",
   "execution_count": 5,
   "id": "d1f77d01",
   "metadata": {},
   "outputs": [],
   "source": [
    "conn = psycopg2.connect(\n",
    "    host=\"localhost\",\n",
    "    database=\"postgres\",\n",
    "    user=\"postgres\",\n",
    "    password=\"sufian3119\",\n",
    "    port = \"5432\"\n",
    ")\n",
    "\n",
    "cur = conn.cursor()"
   ]
  },
  {
   "cell_type": "code",
   "execution_count": 6,
   "id": "32784e49",
   "metadata": {},
   "outputs": [],
   "source": [
    "cur.execute('''\n",
    "    CREATE TABLE IF NOT EXISTS job2 (\n",
    "        title TEXT NOT NULL,\n",
    "        company_name TEXT NOT NULL,\n",
    "        posted_date TEXT NOT NULL,\n",
    "        location TEXT NOT NULL,\n",
    "        salary TEXT NOT NULL,\n",
    "        technology TEXT NOT NULL,\n",
    "        description TEXT NOT NULL)\n",
    "         \n",
    "''')"
   ]
  },
  {
   "cell_type": "code",
   "execution_count": 7,
   "id": "a27070fb",
   "metadata": {},
   "outputs": [],
   "source": [
    "from psycopg2.extras import execute_batch"
   ]
  },
  {
   "cell_type": "code",
   "execution_count": 8,
   "id": "9f300a17",
   "metadata": {},
   "outputs": [],
   "source": [
    "query = \"INSERT INTO job2 VALUES (%(title)s, %(company_name)s, %(posted_date)s, %(location)s,  %(salary)s, %(technology)s, %(description)s)\"\n",
    "\n",
    "execute_batch(cur, query, jobs)\n",
    "\n",
    "conn.commit()\n",
    "cur.close()\n",
    "conn.close()"
   ]
  },
  {
   "cell_type": "code",
   "execution_count": null,
   "id": "4f817280",
   "metadata": {},
   "outputs": [],
   "source": []
  },
  {
   "cell_type": "code",
   "execution_count": null,
   "id": "00a1f43d",
   "metadata": {},
   "outputs": [],
   "source": []
  }
 ],
 "metadata": {
  "kernelspec": {
   "display_name": "Python 3",
   "language": "python",
   "name": "python3"
  },
  "language_info": {
   "codemirror_mode": {
    "name": "ipython",
    "version": 3
   },
   "file_extension": ".py",
   "mimetype": "text/x-python",
   "name": "python",
   "nbconvert_exporter": "python",
   "pygments_lexer": "ipython3",
   "version": "3.8.5"
  }
 },
 "nbformat": 4,
 "nbformat_minor": 5
}
